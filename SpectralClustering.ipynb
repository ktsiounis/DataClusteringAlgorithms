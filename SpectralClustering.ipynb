{
 "cells": [
  {
   "cell_type": "code",
   "execution_count": null,
   "metadata": {},
   "outputs": [],
   "source": [
    "import pandas as pd\n",
    "import numpy as np\n",
    "from sklearn.model_selection import train_test_split\n",
    "from sklearn import metrics\n",
    "from sklearn.cluster import SpectralClustering"
   ]
  },
  {
   "cell_type": "code",
   "execution_count": null,
   "metadata": {},
   "outputs": [],
   "source": [
    "# Load datasets\n",
    "occupancy_df_training = pd.read_csv(\"occupancy_data/datatraining.txt\", header=0)\n",
    "\n",
    "print(occupancy_df_training.head())\n",
    "\n",
    "occupancy_df_test1 = pd.read_csv(\"occupancy_data/datatest.txt\", header=0)\n",
    "occupancy_df_test2 = pd.read_csv(\"occupancy_data/datatest2.txt\", header=0)\n",
    "\n",
    "spambase_df = pd.read_csv(\"spambase/spambase.data\", header=None)\n",
    "\n",
    "print(spambase_df.head())"
   ]
  },
  {
   "cell_type": "code",
   "execution_count": null,
   "metadata": {},
   "outputs": [],
   "source": [
    "occupancy_y = np.array(occupancy_df_training.Occupancy)\n",
    "\n",
    "occupancy_df_training = occupancy_df_training.drop(\"date\", axis=1)\n",
    "occupancy_df_training = np.array(occupancy_df_training.drop(\"Occupancy\", axis=1))\n",
    "\n",
    "spambase_y = np.array(spambase_df[57])\n",
    "spambase_df = np.array(spambase_df.drop(57, axis=1))"
   ]
  },
  {
   "cell_type": "code",
   "execution_count": null,
   "metadata": {},
   "outputs": [],
   "source": [
    "def purity_score(y_true, y_pred):\n",
    "    # compute contingency matrix (also called confusion matrix)\n",
    "    contingency_matrix = metrics.cluster.contingency_matrix(y_true, y_pred)\n",
    "    # return purity\n",
    "    return float(np.sum(np.amax(contingency_matrix, axis=0))) / float(np.sum(contingency_matrix))"
   ]
  },
  {
   "cell_type": "code",
   "execution_count": null,
   "metadata": {},
   "outputs": [],
   "source": [
    "spectral = SpectralClustering(n_clusters=2)\n",
    "predictions = spectral.fit_predict(spambase_df)"
   ]
  },
  {
   "cell_type": "code",
   "execution_count": null,
   "metadata": {},
   "outputs": [],
   "source": [
    "print(metrics.f1_score(spambase_y, predictions))"
   ]
  },
  {
   "cell_type": "code",
   "execution_count": null,
   "metadata": {},
   "outputs": [],
   "source": [
    "print(purity_score(spambase_y, predictions))"
   ]
  },
  {
   "cell_type": "code",
   "execution_count": null,
   "metadata": {},
   "outputs": [],
   "source": [
    "predictions = spectral.fit_predict(occupancy_df_training)"
   ]
  },
  {
   "cell_type": "code",
   "execution_count": null,
   "metadata": {},
   "outputs": [],
   "source": [
    "print(metrics.f1_score(occupancy_y, predictions))"
   ]
  },
  {
   "cell_type": "code",
   "execution_count": null,
   "metadata": {},
   "outputs": [],
   "source": [
    "print(purity_score(occupancy_y, predictions))"
   ]
  }
 ],
 "metadata": {
  "kernelspec": {
   "display_name": "Python 2",
   "language": "python",
   "name": "python2"
  },
  "language_info": {
   "codemirror_mode": {
    "name": "ipython",
    "version": 2
   },
   "file_extension": ".py",
   "mimetype": "text/x-python",
   "name": "python",
   "nbconvert_exporter": "python",
   "pygments_lexer": "ipython2",
   "version": "2.7.15"
  }
 },
 "nbformat": 4,
 "nbformat_minor": 2
}
