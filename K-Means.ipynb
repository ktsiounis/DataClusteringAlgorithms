{
 "cells": [
  {
   "cell_type": "code",
   "execution_count": 1,
   "metadata": {},
   "outputs": [],
   "source": [
    "import pandas as pd\n",
    "import numpy as np\n",
    "from sklearn.model_selection import train_test_split\n",
    "from sklearn import metrics\n",
    "from sklearn.cluster import KMeans"
   ]
  },
  {
   "cell_type": "code",
   "execution_count": 2,
   "metadata": {},
   "outputs": [
    {
     "name": "stdout",
     "output_type": "stream",
     "text": [
      "                  date  Temperature  Humidity  Light     CO2  HumidityRatio  \\\n",
      "1  2015-02-04 17:51:00        23.18   27.2720  426.0  721.25       0.004793   \n",
      "2  2015-02-04 17:51:59        23.15   27.2675  429.5  714.00       0.004783   \n",
      "3  2015-02-04 17:53:00        23.15   27.2450  426.0  713.50       0.004779   \n",
      "4  2015-02-04 17:54:00        23.15   27.2000  426.0  708.25       0.004772   \n",
      "5  2015-02-04 17:55:00        23.10   27.2000  426.0  704.50       0.004757   \n",
      "\n",
      "   Occupancy  \n",
      "1          1  \n",
      "2          1  \n",
      "3          1  \n",
      "4          1  \n",
      "5          1  \n",
      "     0     1     2    3     4     5     6     7     8     9  ...    48     49  \\\n",
      "0  0.00  0.64  0.64  0.0  0.32  0.00  0.00  0.00  0.00  0.00 ...  0.00  0.000   \n",
      "1  0.21  0.28  0.50  0.0  0.14  0.28  0.21  0.07  0.00  0.94 ...  0.00  0.132   \n",
      "2  0.06  0.00  0.71  0.0  1.23  0.19  0.19  0.12  0.64  0.25 ...  0.01  0.143   \n",
      "3  0.00  0.00  0.00  0.0  0.63  0.00  0.31  0.63  0.31  0.63 ...  0.00  0.137   \n",
      "4  0.00  0.00  0.00  0.0  0.63  0.00  0.31  0.63  0.31  0.63 ...  0.00  0.135   \n",
      "\n",
      "    50     51     52     53     54   55    56  57  \n",
      "0  0.0  0.778  0.000  0.000  3.756   61   278   1  \n",
      "1  0.0  0.372  0.180  0.048  5.114  101  1028   1  \n",
      "2  0.0  0.276  0.184  0.010  9.821  485  2259   1  \n",
      "3  0.0  0.137  0.000  0.000  3.537   40   191   1  \n",
      "4  0.0  0.135  0.000  0.000  3.537   40   191   1  \n",
      "\n",
      "[5 rows x 58 columns]\n"
     ]
    }
   ],
   "source": [
    "# Load datasets\n",
    "occupancy_df_training = pd.read_csv(\"occupancy_data/datatraining.txt\", header=0)\n",
    "\n",
    "print(occupancy_df_training.head())\n",
    "\n",
    "occupancy_df_test1 = pd.read_csv(\"occupancy_data/datatest.txt\", header=0)\n",
    "occupancy_df_test2 = pd.read_csv(\"occupancy_data/datatest2.txt\", header=0)\n",
    "\n",
    "spambase_df = pd.read_csv(\"spambase/spambase.data\", header=None)\n",
    "\n",
    "print(spambase_df.head())"
   ]
  },
  {
   "cell_type": "code",
   "execution_count": 3,
   "metadata": {},
   "outputs": [
    {
     "name": "stdout",
     "output_type": "stream",
     "text": [
      "[1 1 1 ... 1 1 1]\n",
      "[[2.31800000e+01 2.72720000e+01 4.26000000e+02 7.21250000e+02\n",
      "  4.79298818e-03]\n",
      " [2.31500000e+01 2.72675000e+01 4.29500000e+02 7.14000000e+02\n",
      "  4.78344095e-03]\n",
      " [2.31500000e+01 2.72450000e+01 4.26000000e+02 7.13500000e+02\n",
      "  4.77946352e-03]\n",
      " ...\n",
      " [2.11000000e+01 3.60950000e+01 4.33000000e+02 7.98500000e+02\n",
      "  5.59563902e-03]\n",
      " [2.11000000e+01 3.62600000e+01 4.33000000e+02 8.20333333e+02\n",
      "  5.62144937e-03]\n",
      " [2.11000000e+01 3.62000000e+01 4.47000000e+02 8.21000000e+02\n",
      "  5.61206354e-03]]\n",
      "[1 1 1 ... 0 0 0]\n"
     ]
    }
   ],
   "source": [
    "occupancy_y = np.array(occupancy_df_training.Occupancy)\n",
    "\n",
    "occupancy_df_training = occupancy_df_training.drop(\"date\", axis=1)\n",
    "occupancy_df_training = np.array(occupancy_df_training.drop(\"Occupancy\", axis=1))\n",
    "\n",
    "spambase_y = np.array(spambase_df[57])\n",
    "spambase_df = np.array(spambase_df.drop(57, axis=1))\n",
    "\n",
    "print(occupancy_y)\n",
    "print(occupancy_df_training)\n",
    "print(spambase_y)"
   ]
  },
  {
   "cell_type": "code",
   "execution_count": 4,
   "metadata": {},
   "outputs": [],
   "source": [
    "def purity_score(y_true, y_pred):\n",
    "    # compute contingency matrix (also called confusion matrix)\n",
    "    contingency_matrix = metrics.cluster.contingency_matrix(y_true, y_pred)\n",
    "    # return purity\n",
    "    return float(np.sum(np.amax(contingency_matrix, axis=0))) / float(np.sum(contingency_matrix))"
   ]
  },
  {
   "cell_type": "code",
   "execution_count": 5,
   "metadata": {},
   "outputs": [
    {
     "data": {
      "text/plain": [
       "KMeans(algorithm='auto', copy_x=True, init='k-means++', max_iter=300,\n",
       "    n_clusters=2, n_init=10, n_jobs=1, precompute_distances='auto',\n",
       "    random_state=None, tol=0.0001, verbose=0)"
      ]
     },
     "execution_count": 5,
     "metadata": {},
     "output_type": "execute_result"
    }
   ],
   "source": [
    "kmeans = KMeans(n_clusters=2)\n",
    "\n",
    "X_train, X_test, y_train, y_test = train_test_split(occupancy_df_training, occupancy_y, test_size=0.33, random_state=53)\n",
    "\n",
    "kmeans.fit(X_train)"
   ]
  },
  {
   "cell_type": "code",
   "execution_count": 6,
   "metadata": {},
   "outputs": [
    {
     "data": {
      "text/plain": [
       "KMeans(algorithm='auto', copy_x=True, init='k-means++', max_iter=300,\n",
       "    n_clusters=4, n_init=10, n_jobs=1, precompute_distances='auto',\n",
       "    random_state=None, tol=0.0001, verbose=0)"
      ]
     },
     "execution_count": 6,
     "metadata": {},
     "output_type": "execute_result"
    }
   ],
   "source": [
    "kmeans = KMeans(n_clusters=4)\n",
    "\n",
    "X_train, X_test, y_train, y_test = train_test_split(occupancy_df_training, occupancy_y, test_size=0.33, random_state=53)\n",
    "\n",
    "kmeans.fit(X_train)"
   ]
  },
  {
   "cell_type": "code",
   "execution_count": 13,
   "metadata": {},
   "outputs": [
    {
     "data": {
      "text/plain": [
       "KMeans(algorithm='auto', copy_x=True, init='k-means++', max_iter=300,\n",
       "    n_clusters=8, n_init=10, n_jobs=1, precompute_distances='auto',\n",
       "    random_state=None, tol=0.0001, verbose=0)"
      ]
     },
     "execution_count": 13,
     "metadata": {},
     "output_type": "execute_result"
    }
   ],
   "source": [
    "kmeans = KMeans(n_clusters=8)\n",
    "\n",
    "X_train, X_test, y_train, y_test = train_test_split(occupancy_df_training, occupancy_y, test_size=0.33, random_state=53)\n",
    "\n",
    "kmeans.fit(X_train)"
   ]
  },
  {
   "cell_type": "code",
   "execution_count": null,
   "metadata": {},
   "outputs": [],
   "source": [
    "correct = 0\n",
    "for i in range(len(X_train)):\n",
    "    predict_me = np.array(X_train[i].astype(float))\n",
    "    predict_me = predict_me.reshape(-1, len(predict_me))\n",
    "    prediction = kmeans.predict(predict_me)\n",
    "    if prediction[0] == y_train[i]:\n",
    "        correct += 1\n",
    "\n",
    "print(float(correct)/float(len(X_train)))"
   ]
  },
  {
   "cell_type": "code",
   "execution_count": 14,
   "metadata": {},
   "outputs": [
    {
     "name": "stdout",
     "output_type": "stream",
     "text": [
      "0.03869047619047619\n"
     ]
    }
   ],
   "source": [
    "y_pred = kmeans.predict(X_test)\n",
    "print(metrics.f1_score(y_test, y_pred, average='micro'))"
   ]
  },
  {
   "cell_type": "code",
   "execution_count": 15,
   "metadata": {},
   "outputs": [
    {
     "name": "stdout",
     "output_type": "stream",
     "text": [
      "0.971726190476\n"
     ]
    }
   ],
   "source": [
    "print(purity_score(y_test, y_pred))"
   ]
  },
  {
   "cell_type": "code",
   "execution_count": 16,
   "metadata": {},
   "outputs": [
    {
     "data": {
      "text/plain": [
       "KMeans(algorithm='auto', copy_x=True, init='k-means++', max_iter=300,\n",
       "    n_clusters=2, n_init=10, n_jobs=1, precompute_distances='auto',\n",
       "    random_state=None, tol=0.0001, verbose=0)"
      ]
     },
     "execution_count": 16,
     "metadata": {},
     "output_type": "execute_result"
    }
   ],
   "source": [
    "kmeans = KMeans(n_clusters=2)\n",
    "\n",
    "X_train, X_test, y_train, y_test = train_test_split(spambase_df, spambase_y, test_size=0.33, random_state=53)\n",
    "\n",
    "kmeans.fit(X_train)"
   ]
  },
  {
   "cell_type": "code",
   "execution_count": 17,
   "metadata": {},
   "outputs": [
    {
     "data": {
      "text/plain": [
       "KMeans(algorithm='auto', copy_x=True, init='k-means++', max_iter=300,\n",
       "    n_clusters=4, n_init=10, n_jobs=1, precompute_distances='auto',\n",
       "    random_state=None, tol=0.0001, verbose=0)"
      ]
     },
     "execution_count": 17,
     "metadata": {},
     "output_type": "execute_result"
    }
   ],
   "source": [
    "kmeans = KMeans(n_clusters=4)\n",
    "\n",
    "X_train, X_test, y_train, y_test = train_test_split(spambase_df, spambase_y, test_size=0.33, random_state=53)\n",
    "\n",
    "kmeans.fit(X_train)"
   ]
  },
  {
   "cell_type": "code",
   "execution_count": 20,
   "metadata": {},
   "outputs": [
    {
     "data": {
      "text/plain": [
       "KMeans(algorithm='auto', copy_x=True, init='k-means++', max_iter=300,\n",
       "    n_clusters=8, n_init=10, n_jobs=1, precompute_distances='auto',\n",
       "    random_state=None, tol=0.0001, verbose=0)"
      ]
     },
     "execution_count": 20,
     "metadata": {},
     "output_type": "execute_result"
    }
   ],
   "source": [
    "kmeans = KMeans(n_clusters=8)\n",
    "\n",
    "X_train, X_test, y_train, y_test = train_test_split(spambase_df, spambase_y, test_size=0.33, random_state=53)\n",
    "\n",
    "kmeans.fit(X_train)"
   ]
  },
  {
   "cell_type": "code",
   "execution_count": null,
   "metadata": {},
   "outputs": [],
   "source": [
    "correct = 0\n",
    "for i in range(len(X_train)):\n",
    "    predict_me = np.array(X_train[i].astype(float))\n",
    "    predict_me = predict_me.reshape(-1, len(predict_me))\n",
    "    prediction = kmeans.predict(predict_me)\n",
    "    if prediction[0] == y_train[i]:\n",
    "        correct += 1\n",
    "\n",
    "print(float(correct)/float(len(X_train)))"
   ]
  },
  {
   "cell_type": "code",
   "execution_count": 21,
   "metadata": {},
   "outputs": [
    {
     "name": "stdout",
     "output_type": "stream",
     "text": [
      "0.5444371296905859\n"
     ]
    }
   ],
   "source": [
    "y_pred = kmeans.predict(X_test)\n",
    "print(metrics.f1_score(y_test, y_pred, average='micro'))"
   ]
  },
  {
   "cell_type": "code",
   "execution_count": 22,
   "metadata": {},
   "outputs": [
    {
     "name": "stdout",
     "output_type": "stream",
     "text": [
      "0.706385780118\n"
     ]
    }
   ],
   "source": [
    "print(purity_score(y_test, y_pred))"
   ]
  },
  {
   "cell_type": "code",
   "execution_count": null,
   "metadata": {},
   "outputs": [],
   "source": []
  }
 ],
 "metadata": {
  "kernelspec": {
   "display_name": "Python 2",
   "language": "python",
   "name": "python2"
  },
  "language_info": {
   "codemirror_mode": {
    "name": "ipython",
    "version": 2
   },
   "file_extension": ".py",
   "mimetype": "text/x-python",
   "name": "python",
   "nbconvert_exporter": "python",
   "pygments_lexer": "ipython2",
   "version": "2.7.15"
  }
 },
 "nbformat": 4,
 "nbformat_minor": 2
}
